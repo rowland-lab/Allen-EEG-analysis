{
 "cells": [
  {
   "cell_type": "code",
   "execution_count": null,
   "id": "f371a064-bb52-4c36-9adb-6a5b83981718",
   "metadata": {
    "tags": []
   },
   "outputs": [],
   "source": [
    "clear all\n",
    "clc\n",
    "\n",
    "% Setup\n",
    "%% Add Github Path\n",
    "gitpath = 'C:\\Users\\allen\\Documents\\GitHub\\Allen-EEG-analysis';\n",
    "cd(gitpath)\n",
    "allengit_genpaths(gitpath,'tDCS')\n",
    "\n",
    "%% CSV Paths\n",
    "healthy_table_path = 'Documents/tDCS_VR/healthy_metric.xlsx';\n",
    "stroke_table_path = 'Documents/tDCS_VR/stroke_metric.xlsx';\n",
    "\n",
    "%% Metrics analyzed\n",
    "metrics = {'avgAcceleration','maxAcceleration'};"
   ]
  },
  {
   "cell_type": "code",
   "execution_count": null,
   "id": "91932ab6-aac3-4ba0-9b24-cc43301d15de",
   "metadata": {
    "tags": []
   },
   "outputs": [],
   "source": [
    "% Load csv\n",
    "healthy_table = readtable(healthy_table_path);\n",
    "stroke_table = readtable(stroke_table_path);\n",
    "disp(healthy_table)\n",
    "disp(stroke_table)"
   ]
  },
  {
   "cell_type": "code",
   "execution_count": null,
   "id": "de0ef138-db79-40bf-9857-645dbe045e09",
   "metadata": {},
   "outputs": [],
   "source": [
    "% Create Figures\n",
    "\n",
    "\n",
    "%% Create a figure with each metric\n",
    "stim_types = {'Anodal','Sham'};\n",
    "diseases = {'healthy','stroke'};\n",
    "for m = 1:numel(metrics)\n",
    "    figure\n",
    "\n",
    "    for d = 1:numel(diseases)\n",
    "        \n",
    "        bardat=nan(10,2);\n",
    "        inputmat=[];\n",
    "        \n",
    "        for stim=1:numel(stim_type)\n",
    "\n",
    "            % Obtain trial data\n",
    "            temptrial=metricdat.trial(subj_idx,:);\n",
    "\n",
    "        % Allocate tempdat\n",
    "        tempdat=nan(sum(subj_idx),7);\n",
    "\n",
    "        % Reorganize based on trial times\n",
    "        for s=1:size(tempmetricdat,1)\n",
    "\n",
    "            % Trial idx\n",
    "            temptrialidx=~cellfun(@isempty,temptrial(s,:));\n",
    "\n",
    "            % Save tempdat\n",
    "            tempdat(s,temptrialidx)=tempmetricdat{s};\n",
    "        end\n",
    "\n",
    "        % only take base, intra 5, intra 15, post 5,\n",
    "        tempdat=tempdat(:,[1:3 5]);\n",
    "        hold on\n",
    "        if stim == 1\n",
    "            plot(tempdat','-o')\n",
    "        else\n",
    "            plot(tempdat','--square')\n",
    "        end\n",
    "    end\n",
    "        \n",
    "        \n",
    "    if d\n",
    "\n",
    "    % Create figure\n",
    "    figure\n",
    "\n",
    "    bardat=nan(10,2);\n",
    "    inputmat=[];\n",
    "    \n",
    "    \n",
    "\n",
    "    ylim([0 22])\n",
    "    xlim([0 5])\n",
    "    % Title figure\n",
    "    sgtitle(dx_type{d})\n",
    "end"
   ]
  }
 ],
 "metadata": {
  "kernelspec": {
   "display_name": "Matlab",
   "language": "matlab",
   "name": "matlab"
  },
  "language_info": {
   "codemirror_mode": "octave",
   "file_extension": ".m",
   "help_links": [
    {
     "text": "MetaKernel Magics",
     "url": "https://metakernel.readthedocs.io/en/latest/source/README.html"
    }
   ],
   "mimetype": "text/x-octave",
   "name": "matlab",
   "version": "0.17.1"
  }
 },
 "nbformat": 4,
 "nbformat_minor": 5
}
